{
  "nbformat": 4,
  "nbformat_minor": 0,
  "metadata": {
    "colab": {
      "name": "mp3_to_spectrogram",
      "provenance": [],
      "collapsed_sections": []
    },
    "kernelspec": {
      "name": "python3",
      "display_name": "Python 3"
    }
  },
  "cells": [
    {
      "cell_type": "markdown",
      "metadata": {
        "id": "kE5t_6ac_eKt"
      },
      "source": [
        "#Installation des modules pré-requis"
      ]
    },
    {
      "cell_type": "code",
      "metadata": {
        "id": "rcIrVd7aQoOb"
      },
      "source": [
        "%%capture\n",
        "!pip install praat-parselmouth"
      ],
      "execution_count": 31,
      "outputs": []
    },
    {
      "cell_type": "markdown",
      "metadata": {
        "id": "tqHax2W4_yx6"
      },
      "source": [
        "#Import des modules nécessaires"
      ]
    },
    {
      "cell_type": "code",
      "metadata": {
        "id": "g06GuGgF_V0u"
      },
      "source": [
        "import parselmouth\n",
        "import numpy as np\n",
        "import os\n",
        "import matplotlib.pyplot as plt\n",
        "from scipy import interpolate"
      ],
      "execution_count": null,
      "outputs": []
    },
    {
      "cell_type": "markdown",
      "metadata": {
        "id": "BvlJK8dM_-qW"
      },
      "source": [
        "#Préprocessing des fichiers audio\n",
        "Pour utiliser cette partie-là il faut d'abord télécharger des corpus utilisés et de les mettre dans la répértoire \"audio\" chacune dans sa propre répértoire."
      ]
    },
    {
      "cell_type": "code",
      "metadata": {
        "id": "mq9ATs81PAv0",
        "colab": {
          "base_uri": "https://localhost:8080/"
        },
        "outputId": "f8d41f2d-e17d-4be7-8d96-bd1e1d06bb10"
      },
      "source": [
        "# replace zeroes in numpy array to prevent divide by Zero Warning while using log\n",
        "def replaceZeroes(data):\n",
        "  data[data == 0] = np.min(data[np.nonzero(data)])\n",
        "  return data\n",
        "\n",
        "\n",
        "## audio to spectro preprocessing\n",
        "for targetdir in ['fr', \"ar\", \"ru\", \"hi\"]:\n",
        "  print(targetdir)\n",
        "  for path in os.listdir(targetdir):\n",
        "    print(path)\n",
        "    snd=parselmouth.Sound(\"audio/\"+targetdir+\"/\"+path)\n",
        "    spectrogram = snd.to_spectrogram(maximum_frequency=8000)\n",
        "    X, Y = spectrogram.x_grid(), spectrogram.y_grid()\n",
        "    Xbins, Ybins = spectrogram.x_bins(), spectrogram.y_bins()\n",
        "    Ymid = np.column_stack((Ybins[:,0],np.diff(Ybins,axis=1)/2)).sum(axis=1)\n",
        "    sg_db = 10 * np.where(spectrogram.values > 0.0000000001, np.log10(replaceZeroes(spectrogram.values)), -10)\n",
        "    fig = plt.figure(frameon=False)\n",
        "    fig.set_size_inches(0.25,0.25)\n",
        "    ax = plt.Axes(fig, [0., 0., 1., 1.])\n",
        "    ax.set_axis_off()\n",
        "    fig.add_axes(ax)\n",
        "\n",
        "\n",
        "    sg_bd_interp = interpolate.RectBivariateSpline(np.column_stack((Xbins[:,0],np.diff(Xbins,axis=1)/2)).sum(axis=1), Ymid, sg_db.T)(np.linspace(X[0], X[-1], 10*len(X)), np.linspace(Y[0], Y[-1], 10*len(Y))).T\n",
        "\n",
        "    # add min value in image on the right of the image if zero_padding_width_ratio is over 0 and below 1\n",
        "    zero_padding_width_ratio=(2-snd.get_total_duration())/2\n",
        "    if 0 < zero_padding_width_ratio < 1:\n",
        "      value_for_zero_padding=np.min(sg_bd_interp)\n",
        "      zero_padded_sg_bd_interp = np.concatenate((sg_bd_interp,np.ones((sg_bd_interp.shape[0], int(np.round(sg_bd_interp.shape[1] * zero_padding_width_ratio / (1 - zero_padding_width_ratio)))))*value_for_zero_padding), axis = 1)\n",
        "    else:\n",
        "      zero_padded_sg_bd_interp = sg_bd_interp\n",
        "\n",
        "    ax.imshow(zero_padded_sg_bd_interp, aspect=\"auto\", cmap=\"gray_r\", vmin=sg_db.max() - 70, vmax=None)\n",
        "    fig.savefig(\"imagesSpectros/\"+targetdir+\"/\"+path[:-3]+\"png\", dpi = 200)\n",
        "    plt.close(fig)  "
      ],
      "execution_count": 32,
      "outputs": [
        {
          "output_type": "stream",
          "text": [
            "fr\n",
            "common_voice_fr_17377399.mp3\n"
          ],
          "name": "stdout"
        }
      ]
    }
  ]
}